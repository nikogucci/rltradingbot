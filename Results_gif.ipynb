{
 "cells": [
  {
   "cell_type": "code",
   "execution_count": 25,
   "id": "gross-runner",
   "metadata": {},
   "outputs": [],
   "source": [
    "import numpy as np\n",
    "import pandas as pd\n",
    "import matplotlib.pyplot as plt\n",
    "import matplotlib.animation as animation\n",
    "\n",
    "from utils import get_data_from_yf"
   ]
  },
  {
   "cell_type": "code",
   "execution_count": 28,
   "id": "quality-editor",
   "metadata": {},
   "outputs": [],
   "source": [
    "n_inds = 0\n",
    "n_stocks = 3"
   ]
  },
  {
   "cell_type": "code",
   "execution_count": 43,
   "id": "spare-consolidation",
   "metadata": {},
   "outputs": [
    {
     "name": "stdout",
     "output_type": "stream",
     "text": [
      "[*********************100%***********************]  1 of 1 completed\n",
      "[*********************100%***********************]  1 of 1 completed\n",
      "[*********************100%***********************]  1 of 1 completed\n"
     ]
    }
   ],
   "source": [
    "data = get_data_from_yf([\"AAPL\",\"MSI\",\"SBUX\"], is_tech_ind=False)\n",
    "n_timesteps, cols = data.shape\n",
    "assert cols == n_stocks + n_inds, f\"Expected {n_stocks + n_inds} but Actual {cols}\"\n",
    "\n",
    "n_train = n_timesteps // 2\n",
    "\n",
    "train_data = data[:n_train]\n",
    "test_data = data[n_train:]\n",
    "test_data = pd.DataFrame(test_data, columns = [\"AAPL\",\"MSI\",\"SBUX\"])"
   ]
  },
  {
   "cell_type": "code",
   "execution_count": 2,
   "id": "cooked-platform",
   "metadata": {},
   "outputs": [],
   "source": [
    "df = pd.read_csv(\"aapl_msi_sbux.csv\")\n",
    "n_stocks = 3\n",
    "initial_investment = 20000\n"
   ]
  },
  {
   "cell_type": "code",
   "execution_count": 12,
   "id": "dependent-setup",
   "metadata": {},
   "outputs": [],
   "source": [
    "test_rewards = np.load(\"linear_rl_trader_rewards/demo_1_no_tech_indicators.npy\")"
   ]
  },
  {
   "cell_type": "code",
   "execution_count": 14,
   "id": "dated-whale",
   "metadata": {},
   "outputs": [
    {
     "data": {
      "text/plain": [
       "655"
      ]
     },
     "execution_count": 14,
     "metadata": {},
     "output_type": "execute_result"
    }
   ],
   "source": [
    "len(test_rewards)"
   ]
  },
  {
   "cell_type": "code",
   "execution_count": 45,
   "id": "binary-clark",
   "metadata": {},
   "outputs": [
    {
     "data": {
      "text/plain": [
       "655"
      ]
     },
     "execution_count": 45,
     "metadata": {},
     "output_type": "execute_result"
    }
   ],
   "source": [
    "share_data = test_data.iloc[:len(test_rewards),:]\n",
    "len(share_data)"
   ]
  },
  {
   "cell_type": "code",
   "execution_count": 50,
   "id": "expanded-separate",
   "metadata": {},
   "outputs": [
    {
     "data": {
      "text/html": [
       "<div>\n",
       "<style scoped>\n",
       "    .dataframe tbody tr th:only-of-type {\n",
       "        vertical-align: middle;\n",
       "    }\n",
       "\n",
       "    .dataframe tbody tr th {\n",
       "        vertical-align: top;\n",
       "    }\n",
       "\n",
       "    .dataframe thead th {\n",
       "        text-align: right;\n",
       "    }\n",
       "</style>\n",
       "<table border=\"1\" class=\"dataframe\">\n",
       "  <thead>\n",
       "    <tr style=\"text-align: right;\">\n",
       "      <th></th>\n",
       "      <th>AAPL</th>\n",
       "      <th>MSI</th>\n",
       "      <th>SBUX</th>\n",
       "    </tr>\n",
       "  </thead>\n",
       "  <tbody>\n",
       "    <tr>\n",
       "      <th>0</th>\n",
       "      <td>38.830002</td>\n",
       "      <td>86.989998</td>\n",
       "      <td>53.070000</td>\n",
       "    </tr>\n",
       "    <tr>\n",
       "      <th>1</th>\n",
       "      <td>39.369999</td>\n",
       "      <td>87.480003</td>\n",
       "      <td>53.180000</td>\n",
       "    </tr>\n",
       "    <tr>\n",
       "      <th>2</th>\n",
       "      <td>39.962502</td>\n",
       "      <td>88.599998</td>\n",
       "      <td>53.220001</td>\n",
       "    </tr>\n",
       "    <tr>\n",
       "      <th>3</th>\n",
       "      <td>40.400002</td>\n",
       "      <td>87.919998</td>\n",
       "      <td>53.150002</td>\n",
       "    </tr>\n",
       "    <tr>\n",
       "      <th>4</th>\n",
       "      <td>40.237499</td>\n",
       "      <td>88.190002</td>\n",
       "      <td>53.500000</td>\n",
       "    </tr>\n",
       "  </tbody>\n",
       "</table>\n",
       "</div>"
      ],
      "text/plain": [
       "        AAPL        MSI       SBUX\n",
       "0  38.830002  86.989998  53.070000\n",
       "1  39.369999  87.480003  53.180000\n",
       "2  39.962502  88.599998  53.220001\n",
       "3  40.400002  87.919998  53.150002\n",
       "4  40.237499  88.190002  53.500000"
      ]
     },
     "execution_count": 50,
     "metadata": {},
     "output_type": "execute_result"
    }
   ],
   "source": [
    "share_data.head()"
   ]
  },
  {
   "cell_type": "code",
   "execution_count": 51,
   "id": "promising-runner",
   "metadata": {},
   "outputs": [],
   "source": [
    "def produce_holding_df(share_df, train_split ,n_stocks,initial_investment):\n",
    "    #n_train = share_df.shape[0] // int(train_split)\n",
    "    #demo_data = share_df[int(n_train):]\n",
    "    demo_data = share_df\n",
    "    initial_stocks = np.floor(initial_investment/demo_data.iloc[0,:n_stocks].values)\n",
    "    holding_df = demo_data*initial_stocks\n",
    "    print(len(holding_df))\n",
    "    return holding_df"
   ]
  },
  {
   "cell_type": "code",
   "execution_count": 34,
   "id": "proper-roommate",
   "metadata": {},
   "outputs": [],
   "source": [
    "def produce_line_graph(holding_df, demo_rewards):\n",
    "    v = holding_df[\"AAPL\"]\n",
    "    y = holding_df[\"MSI\"]\n",
    "    z = holding_df[\"SBUX\"]\n",
    "    x = range(len(v))\n",
    "    d = demo_rewards\n",
    "\n",
    "    fig, ax = plt.subplots()\n",
    "    line1, = ax.plot(x, v, color = \"b\", label =\"AAPL\")\n",
    "    line2, = ax.plot(x, y, color = \"r\", label = \"MSI\")\n",
    "    line3, = ax.plot(x, z, color = \"g\", label = \"SBUX\")\n",
    "    line4, = ax.plot(x, d, color = \"y\", label = \"CHURLie\")\n",
    "    plt.ioff()\n",
    "    return fig, x, v, y, z, d, line1, line2, line3, line4"
   ]
  },
  {
   "cell_type": "code",
   "execution_count": null,
   "id": "scheduled-effort",
   "metadata": {},
   "outputs": [],
   "source": [
    "%%capture\n",
    "df = pd.read_csv(\"aapl_msi_sbux.csv\")\n",
    "n_stocks = 3\n",
    "initial_investment = 20000\n",
    "\n",
    "def produce_gif(share_df, train_split ,n_stocks,initial_investment, demo):\n",
    "    holding_df = produce_holding_df(share_df, train_split ,n_stocks,initial_investment)\n",
    "    demo = demo\n",
    "    fig, x, v, y, z, d, line1, line2, line3, line4 = produce_line_graph(holding_df, demo)\n",
    "    def update(num, x, y, z, d, line1, line2, line3, line4):\n",
    "        line1.set_data(x[:num], v[:num])\n",
    "        line1.set_label(\"Apple\")\n",
    "        #ax.legend()\n",
    "        line2.set_data(x[:num], y[:num])\n",
    "        line2.set_label(\"MSI\")\n",
    "        #ax.legend()\n",
    "        line3.set_data(x[:num], z[:num])\n",
    "        line3.set_label(\"SBUX\")\n",
    "        line4.set_data(x[:num], d[:num])\n",
    "        line4.set_label(\"CHURLie\")\n",
    "        #ax.legend()\n",
    "        plt.legend()\n",
    "        #legend.remove()\n",
    "        #legend = plt.legend()\n",
    "        return [line1,line2,line3, line4]\n",
    "    ani = animation.FuncAnimation(fig, update, len(x), fargs=[x, y, z, d, line1, line2,line3, line4],\n",
    "                   interval = 0.1, blit=True) #interval=0.1,\n",
    "    ani.save(\"production.gif\",fps = 30)\n",
    "    \n",
    "produce_gif(share_data, 2, n_stocks, initial_investment, test_rewards)"
   ]
  },
  {
   "cell_type": "code",
   "execution_count": null,
   "id": "coupled-wallpaper",
   "metadata": {},
   "outputs": [],
   "source": [
    "<img src=\"production.gif\" width=\"750\" align=\"center\">"
   ]
  }
 ],
 "metadata": {
  "environment": {
   "name": "common-cpu.mnightly-2021-01-20-debian-10-test",
   "type": "gcloud",
   "uri": "gcr.io/deeplearning-platform-release/base-cpu:mnightly-2021-01-20-debian-10-test"
  },
  "kernelspec": {
   "display_name": "Python 3",
   "language": "python",
   "name": "python3"
  },
  "language_info": {
   "codemirror_mode": {
    "name": "ipython",
    "version": 3
   },
   "file_extension": ".py",
   "mimetype": "text/x-python",
   "name": "python",
   "nbconvert_exporter": "python",
   "pygments_lexer": "ipython3",
   "version": "3.7.9"
  }
 },
 "nbformat": 4,
 "nbformat_minor": 5
}
