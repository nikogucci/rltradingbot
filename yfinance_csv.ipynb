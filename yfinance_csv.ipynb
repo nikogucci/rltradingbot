{
 "cells": [
  {
   "cell_type": "code",
   "execution_count": 1,
   "id": "prime-driver",
   "metadata": {},
   "outputs": [],
   "source": [
    "from utils import get_data_from_yf\n",
    "import pandas as pd"
   ]
  },
  {
   "cell_type": "code",
   "execution_count": 6,
   "id": "fabulous-fitting",
   "metadata": {},
   "outputs": [
    {
     "name": "stdout",
     "output_type": "stream",
     "text": [
      "[*********************100%***********************]  1 of 1 completed\n",
      "[*********************100%***********************]  1 of 1 completed\n",
      "[*********************100%***********************]  1 of 1 completed\n"
     ]
    }
   ],
   "source": [
    " data = get_data_from_yf([\"AAPL\",\"MSI\",\"SBUX\"], is_tech_ind=False)"
   ]
  },
  {
   "cell_type": "code",
   "execution_count": 7,
   "id": "surprised-linux",
   "metadata": {},
   "outputs": [],
   "source": [
    "data.to_csv(\"appl_msi_sbux_basic.csv\", index =False)"
   ]
  }
 ],
 "metadata": {
  "environment": {
   "name": "common-cpu.mnightly-2021-01-20-debian-10-test",
   "type": "gcloud",
   "uri": "gcr.io/deeplearning-platform-release/base-cpu:mnightly-2021-01-20-debian-10-test"
  },
  "kernelspec": {
   "display_name": "Python 3",
   "language": "python",
   "name": "python3"
  },
  "language_info": {
   "codemirror_mode": {
    "name": "ipython",
    "version": 3
   },
   "file_extension": ".py",
   "mimetype": "text/x-python",
   "name": "python",
   "nbconvert_exporter": "python",
   "pygments_lexer": "ipython3",
   "version": "3.7.9"
  }
 },
 "nbformat": 4,
 "nbformat_minor": 5
}
