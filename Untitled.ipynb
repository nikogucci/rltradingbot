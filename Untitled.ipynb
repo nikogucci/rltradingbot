{
 "cells": [
  {
   "cell_type": "code",
   "execution_count": 1,
   "id": "described-medicaid",
   "metadata": {},
   "outputs": [],
   "source": [
    "import numpy as np\n",
    "import matplotlib.pyplot as plt\n",
    "\n",
    "from datetime import datetime\n",
    "import argparse\n",
    "import pickle\n",
    "\n",
    "from sklearn.preprocessing import StandardScaler\n",
    "\n",
    "from agent import DQNAgent\n",
    "from environment import MultiStockEnv\n",
    "from utils import maybe_make_dir, get_data\n",
    "import yfinance as yf"
   ]
  },
  {
   "cell_type": "code",
   "execution_count": 2,
   "id": "about-curve",
   "metadata": {},
   "outputs": [
    {
     "name": "stdout",
     "output_type": "stream",
     "text": [
      "1259 3\n",
      "629\n"
     ]
    }
   ],
   "source": [
    "data = get_data()\n",
    "n_timesteps, n_stocks = data.shape\n",
    "print(n_timesteps, n_stocks)\n",
    "    \n",
    "n_train = n_timesteps // 2\n",
    "print(n_train)\n",
    "train_data = data[:n_train]\n",
    "test_data = data[n_train:]"
   ]
  },
  {
   "cell_type": "code",
   "execution_count": 5,
   "id": "french-burning",
   "metadata": {},
   "outputs": [
    {
     "name": "stdout",
     "output_type": "stream",
     "text": [
      "Collecting yfinance\n",
      "  Downloading yfinance-0.1.55.tar.gz (23 kB)\n",
      "Requirement already satisfied: pandas>=0.24 in /opt/conda/lib/python3.7/site-packages (from yfinance) (1.2.1)\n",
      "Requirement already satisfied: numpy>=1.15 in /opt/conda/lib/python3.7/site-packages (from yfinance) (1.19.5)\n",
      "Requirement already satisfied: requests>=2.20 in /opt/conda/lib/python3.7/site-packages (from yfinance) (2.25.1)\n",
      "Collecting lxml>=4.5.1\n",
      "  Downloading lxml-4.6.2-cp37-cp37m-manylinux1_x86_64.whl (5.5 MB)\n",
      "\u001b[K     |████████████████████████████████| 5.5 MB 18.3 MB/s eta 0:00:01\n",
      "\u001b[?25hCollecting multitasking>=0.0.7\n",
      "  Downloading multitasking-0.0.9.tar.gz (8.1 kB)\n",
      "Requirement already satisfied: python-dateutil>=2.7.3 in /opt/conda/lib/python3.7/site-packages (from pandas>=0.24->yfinance) (2.8.1)\n",
      "Requirement already satisfied: pytz>=2017.3 in /opt/conda/lib/python3.7/site-packages (from pandas>=0.24->yfinance) (2020.5)\n",
      "Requirement already satisfied: six>=1.5 in /opt/conda/lib/python3.7/site-packages (from python-dateutil>=2.7.3->pandas>=0.24->yfinance) (1.15.0)\n",
      "Requirement already satisfied: certifi>=2017.4.17 in /opt/conda/lib/python3.7/site-packages (from requests>=2.20->yfinance) (2020.12.5)\n",
      "Requirement already satisfied: chardet<5,>=3.0.2 in /opt/conda/lib/python3.7/site-packages (from requests>=2.20->yfinance) (3.0.4)\n",
      "Requirement already satisfied: idna<3,>=2.5 in /opt/conda/lib/python3.7/site-packages (from requests>=2.20->yfinance) (2.10)\n",
      "Requirement already satisfied: urllib3<1.27,>=1.21.1 in /opt/conda/lib/python3.7/site-packages (from requests>=2.20->yfinance) (1.26.2)\n",
      "Building wheels for collected packages: yfinance, multitasking\n",
      "  Building wheel for yfinance (setup.py) ... \u001b[?25ldone\n",
      "\u001b[?25h  Created wheel for yfinance: filename=yfinance-0.1.55-py2.py3-none-any.whl size=22616 sha256=782833c4592e74bd310ef8c6e3c47c7e075efb3ff898c0734fefbfc79bd637b4\n",
      "  Stored in directory: /home/jupyter/.cache/pip/wheels/aa/8a/36/59ed4f6fbcb6100967618eeb0696046bf9777a41ac2ff1f9b9\n",
      "  Building wheel for multitasking (setup.py) ... \u001b[?25ldone\n",
      "\u001b[?25h  Created wheel for multitasking: filename=multitasking-0.0.9-py3-none-any.whl size=8368 sha256=a9bfbd7d94d36156f5347311512ecfcf0159400b08353510f5c49c17e7952368\n",
      "  Stored in directory: /home/jupyter/.cache/pip/wheels/ae/25/47/4d68431a7ec1b6c4b5233365934b74c1d4e665bf5f968d363a\n",
      "Successfully built yfinance multitasking\n",
      "Installing collected packages: multitasking, lxml, yfinance\n",
      "Successfully installed lxml-4.6.2 multitasking-0.0.9 yfinance-0.1.55\n"
     ]
    }
   ],
   "source": [
    "!pip install yfinance"
   ]
  },
  {
   "cell_type": "code",
   "execution_count": 6,
   "id": "public-humanitarian",
   "metadata": {},
   "outputs": [
    {
     "name": "stdout",
     "output_type": "stream",
     "text": [
      "Requirement already satisfied: gym in /opt/conda/lib/python3.7/site-packages (0.18.0)\n",
      "Requirement already satisfied: numpy>=1.10.4 in /opt/conda/lib/python3.7/site-packages (from gym) (1.19.5)\n",
      "Requirement already satisfied: Pillow<=7.2.0 in /opt/conda/lib/python3.7/site-packages (from gym) (7.2.0)\n",
      "Requirement already satisfied: cloudpickle<1.7.0,>=1.2.0 in /opt/conda/lib/python3.7/site-packages (from gym) (1.6.0)\n",
      "Requirement already satisfied: pyglet<=1.5.0,>=1.4.0 in /opt/conda/lib/python3.7/site-packages (from gym) (1.5.0)\n",
      "Requirement already satisfied: scipy in /opt/conda/lib/python3.7/site-packages (from gym) (1.6.0)\n",
      "Requirement already satisfied: future in /opt/conda/lib/python3.7/site-packages (from pyglet<=1.5.0,>=1.4.0->gym) (0.18.2)\n"
     ]
    }
   ],
   "source": [
    "!pip install gym"
   ]
  },
  {
   "cell_type": "code",
   "execution_count": 11,
   "id": "operational-physiology",
   "metadata": {},
   "outputs": [
    {
     "name": "stdout",
     "output_type": "stream",
     "text": [
      "[*********************100%***********************]  1 of 1 completed\n"
     ]
    }
   ],
   "source": [
    "data_df = yf.download([\"AAPL\"], start=\"2020-02-01\", end=\"2020-03-20\")"
   ]
  },
  {
   "cell_type": "code",
   "execution_count": 9,
   "id": "indonesian-insertion",
   "metadata": {},
   "outputs": [
    {
     "data": {
      "text/html": [
       "<div>\n",
       "<style scoped>\n",
       "    .dataframe tbody tr th:only-of-type {\n",
       "        vertical-align: middle;\n",
       "    }\n",
       "\n",
       "    .dataframe tbody tr th {\n",
       "        vertical-align: top;\n",
       "    }\n",
       "\n",
       "    .dataframe thead th {\n",
       "        text-align: right;\n",
       "    }\n",
       "</style>\n",
       "<table border=\"1\" class=\"dataframe\">\n",
       "  <thead>\n",
       "    <tr style=\"text-align: right;\">\n",
       "      <th></th>\n",
       "      <th>Open</th>\n",
       "      <th>High</th>\n",
       "      <th>Low</th>\n",
       "      <th>Close</th>\n",
       "      <th>Adj Close</th>\n",
       "      <th>Volume</th>\n",
       "    </tr>\n",
       "    <tr>\n",
       "      <th>Date</th>\n",
       "      <th></th>\n",
       "      <th></th>\n",
       "      <th></th>\n",
       "      <th></th>\n",
       "      <th></th>\n",
       "      <th></th>\n",
       "    </tr>\n",
       "  </thead>\n",
       "  <tbody>\n",
       "    <tr>\n",
       "      <th>2020-02-03</th>\n",
       "      <td>76.074997</td>\n",
       "      <td>78.372498</td>\n",
       "      <td>75.555000</td>\n",
       "      <td>77.165001</td>\n",
       "      <td>76.504311</td>\n",
       "      <td>173985600</td>\n",
       "    </tr>\n",
       "    <tr>\n",
       "      <th>2020-02-04</th>\n",
       "      <td>78.827499</td>\n",
       "      <td>79.910004</td>\n",
       "      <td>78.407501</td>\n",
       "      <td>79.712502</td>\n",
       "      <td>79.029999</td>\n",
       "      <td>136616400</td>\n",
       "    </tr>\n",
       "    <tr>\n",
       "      <th>2020-02-05</th>\n",
       "      <td>80.879997</td>\n",
       "      <td>81.190002</td>\n",
       "      <td>79.737503</td>\n",
       "      <td>80.362503</td>\n",
       "      <td>79.674438</td>\n",
       "      <td>118826800</td>\n",
       "    </tr>\n",
       "    <tr>\n",
       "      <th>2020-02-06</th>\n",
       "      <td>80.642502</td>\n",
       "      <td>81.305000</td>\n",
       "      <td>80.065002</td>\n",
       "      <td>81.302498</td>\n",
       "      <td>80.606384</td>\n",
       "      <td>105425600</td>\n",
       "    </tr>\n",
       "    <tr>\n",
       "      <th>2020-02-07</th>\n",
       "      <td>80.592499</td>\n",
       "      <td>80.849998</td>\n",
       "      <td>79.500000</td>\n",
       "      <td>80.007500</td>\n",
       "      <td>79.510727</td>\n",
       "      <td>117684000</td>\n",
       "    </tr>\n",
       "  </tbody>\n",
       "</table>\n",
       "</div>"
      ],
      "text/plain": [
       "                 Open       High        Low      Close  Adj Close     Volume\n",
       "Date                                                                        \n",
       "2020-02-03  76.074997  78.372498  75.555000  77.165001  76.504311  173985600\n",
       "2020-02-04  78.827499  79.910004  78.407501  79.712502  79.029999  136616400\n",
       "2020-02-05  80.879997  81.190002  79.737503  80.362503  79.674438  118826800\n",
       "2020-02-06  80.642502  81.305000  80.065002  81.302498  80.606384  105425600\n",
       "2020-02-07  80.592499  80.849998  79.500000  80.007500  79.510727  117684000"
      ]
     },
     "execution_count": 9,
     "metadata": {},
     "output_type": "execute_result"
    }
   ],
   "source": [
    "data_df.head()"
   ]
  },
  {
   "cell_type": "code",
   "execution_count": 12,
   "id": "friendly-sensitivity",
   "metadata": {},
   "outputs": [
    {
     "name": "stdout",
     "output_type": "stream",
     "text": [
      "[*********************100%***********************]  1 of 1 completed\n"
     ]
    }
   ],
   "source": [
    "data_df2 = yf.download([\"MSI\"], start=\"2020-02-01\", end=\"2020-03-20\")"
   ]
  },
  {
   "cell_type": "code",
   "execution_count": 13,
   "id": "apparent-security",
   "metadata": {},
   "outputs": [
    {
     "name": "stdout",
     "output_type": "stream",
     "text": [
      "[*********************100%***********************]  1 of 1 completed\n"
     ]
    }
   ],
   "source": [
    "data_df3 = yf.download([\"SBUX\"], start=\"2020-02-01\", end=\"2020-03-20\")"
   ]
  },
  {
   "cell_type": "code",
   "execution_count": null,
   "id": "expanded-arthritis",
   "metadata": {},
   "outputs": [],
   "source": [
    "data_df['Stock']='AAPL'\n",
    "data_df2['']"
   ]
  },
  {
   "cell_type": "code",
   "execution_count": 5,
   "id": "subtle-moses",
   "metadata": {},
   "outputs": [
    {
     "name": "stdout",
     "output_type": "stream",
     "text": [
      "[*********************100%***********************]  1 of 1 completed\n",
      "[*********************100%***********************]  1 of 1 completed\n",
      "[*********************100%***********************]  1 of 1 completed\n",
      "Shape of DataFrame:  (4581, 8)\n"
     ]
    },
    {
     "data": {
      "text/html": [
       "<div>\n",
       "<style scoped>\n",
       "    .dataframe tbody tr th:only-of-type {\n",
       "        vertical-align: middle;\n",
       "    }\n",
       "\n",
       "    .dataframe tbody tr th {\n",
       "        vertical-align: top;\n",
       "    }\n",
       "\n",
       "    .dataframe thead th {\n",
       "        text-align: right;\n",
       "    }\n",
       "</style>\n",
       "<table border=\"1\" class=\"dataframe\">\n",
       "  <thead>\n",
       "    <tr style=\"text-align: right;\">\n",
       "      <th></th>\n",
       "      <th>date</th>\n",
       "      <th>open</th>\n",
       "      <th>high</th>\n",
       "      <th>low</th>\n",
       "      <th>close</th>\n",
       "      <th>volume</th>\n",
       "      <th>tic</th>\n",
       "      <th>day</th>\n",
       "    </tr>\n",
       "  </thead>\n",
       "  <tbody>\n",
       "    <tr>\n",
       "      <th>0</th>\n",
       "      <td>2015-01-02</td>\n",
       "      <td>27.847500</td>\n",
       "      <td>27.860001</td>\n",
       "      <td>26.837500</td>\n",
       "      <td>24.898552</td>\n",
       "      <td>212818400</td>\n",
       "      <td>aapl</td>\n",
       "      <td>4</td>\n",
       "    </tr>\n",
       "    <tr>\n",
       "      <th>1</th>\n",
       "      <td>2015-01-05</td>\n",
       "      <td>27.072500</td>\n",
       "      <td>27.162500</td>\n",
       "      <td>26.352501</td>\n",
       "      <td>24.197117</td>\n",
       "      <td>257142000</td>\n",
       "      <td>aapl</td>\n",
       "      <td>0</td>\n",
       "    </tr>\n",
       "    <tr>\n",
       "      <th>2</th>\n",
       "      <td>2015-01-06</td>\n",
       "      <td>26.635000</td>\n",
       "      <td>26.857500</td>\n",
       "      <td>26.157499</td>\n",
       "      <td>24.199400</td>\n",
       "      <td>263188400</td>\n",
       "      <td>aapl</td>\n",
       "      <td>1</td>\n",
       "    </tr>\n",
       "    <tr>\n",
       "      <th>3</th>\n",
       "      <td>2015-01-07</td>\n",
       "      <td>26.799999</td>\n",
       "      <td>27.049999</td>\n",
       "      <td>26.674999</td>\n",
       "      <td>24.538729</td>\n",
       "      <td>160423600</td>\n",
       "      <td>aapl</td>\n",
       "      <td>2</td>\n",
       "    </tr>\n",
       "    <tr>\n",
       "      <th>4</th>\n",
       "      <td>2015-01-08</td>\n",
       "      <td>27.307501</td>\n",
       "      <td>28.037500</td>\n",
       "      <td>27.174999</td>\n",
       "      <td>25.481558</td>\n",
       "      <td>237458000</td>\n",
       "      <td>aapl</td>\n",
       "      <td>3</td>\n",
       "    </tr>\n",
       "  </tbody>\n",
       "</table>\n",
       "</div>"
      ],
      "text/plain": [
       "         date       open       high        low      close     volume   tic  \\\n",
       "0  2015-01-02  27.847500  27.860001  26.837500  24.898552  212818400  aapl   \n",
       "1  2015-01-05  27.072500  27.162500  26.352501  24.197117  257142000  aapl   \n",
       "2  2015-01-06  26.635000  26.857500  26.157499  24.199400  263188400  aapl   \n",
       "3  2015-01-07  26.799999  27.049999  26.674999  24.538729  160423600  aapl   \n",
       "4  2015-01-08  27.307501  28.037500  27.174999  25.481558  237458000  aapl   \n",
       "\n",
       "   day  \n",
       "0    4  \n",
       "1    0  \n",
       "2    1  \n",
       "3    2  \n",
       "4    3  "
      ]
     },
     "execution_count": 5,
     "metadata": {},
     "output_type": "execute_result"
    }
   ],
   "source": [
    "import pandas as pd\n",
    "import matplotlib.pyplot as plt\n",
    "import numpy as np\n",
    "import matplotlib\n",
    "matplotlib.use('Agg')\n",
    "import datetime\n",
    "import os\n",
    "from yahoodownloader import YahooDownloader\n",
    "import sys\n",
    "\n",
    "\n",
    "gcp_hack = ['aapl', 'msi', 'sbux']\n",
    "\n",
    "data_df = YahooDownloader(start_date = '2015-01-01',\n",
    "                          end_date = '2021-12-01',\n",
    "                          ticker_list = gcp_hack).fetch_data()\n",
    "data_df.head()\n",
    "\n"
   ]
  },
  {
   "cell_type": "code",
   "execution_count": 15,
   "id": "invalid-disabled",
   "metadata": {},
   "outputs": [
    {
     "data": {
      "text/plain": [
       "msi     1527\n",
       "sbux    1527\n",
       "aapl    1527\n",
       "Name: tic, dtype: int64"
      ]
     },
     "execution_count": 15,
     "metadata": {},
     "output_type": "execute_result"
    }
   ],
   "source": [
    "data_df['tic'].value_counts()"
   ]
  },
  {
   "cell_type": "code",
   "execution_count": 20,
   "id": "about-bridges",
   "metadata": {},
   "outputs": [],
   "source": [
    "apple=data_df[data_df['tic']=='aapl'][['open','close']]"
   ]
  },
  {
   "cell_type": "code",
   "execution_count": 21,
   "id": "clinical-warehouse",
   "metadata": {},
   "outputs": [],
   "source": [
    "msi=data_df[data_df['tic']=='msi'][['open','close']]"
   ]
  },
  {
   "cell_type": "code",
   "execution_count": 22,
   "id": "military-supplier",
   "metadata": {},
   "outputs": [],
   "source": [
    "sbux=data_df[data_df['tic']=='sbux'][['open','close']]"
   ]
  },
  {
   "cell_type": "code",
   "execution_count": 29,
   "id": "reduced-reservoir",
   "metadata": {},
   "outputs": [],
   "source": [
    "comb_df=pd.concat([apple,msi,sbux],axis=1)"
   ]
  },
  {
   "cell_type": "code",
   "execution_count": 31,
   "id": "straight-convergence",
   "metadata": {},
   "outputs": [
    {
     "data": {
      "text/html": [
       "<div>\n",
       "<style scoped>\n",
       "    .dataframe tbody tr th:only-of-type {\n",
       "        vertical-align: middle;\n",
       "    }\n",
       "\n",
       "    .dataframe tbody tr th {\n",
       "        vertical-align: top;\n",
       "    }\n",
       "\n",
       "    .dataframe thead th {\n",
       "        text-align: right;\n",
       "    }\n",
       "</style>\n",
       "<table border=\"1\" class=\"dataframe\">\n",
       "  <thead>\n",
       "    <tr style=\"text-align: right;\">\n",
       "      <th></th>\n",
       "      <th>open</th>\n",
       "      <th>close</th>\n",
       "      <th>open</th>\n",
       "      <th>close</th>\n",
       "      <th>open</th>\n",
       "      <th>close</th>\n",
       "    </tr>\n",
       "  </thead>\n",
       "  <tbody>\n",
       "    <tr>\n",
       "      <th>4576</th>\n",
       "      <td>NaN</td>\n",
       "      <td>NaN</td>\n",
       "      <td>NaN</td>\n",
       "      <td>NaN</td>\n",
       "      <td>102.410004</td>\n",
       "      <td>105.459999</td>\n",
       "    </tr>\n",
       "    <tr>\n",
       "      <th>4577</th>\n",
       "      <td>NaN</td>\n",
       "      <td>NaN</td>\n",
       "      <td>NaN</td>\n",
       "      <td>NaN</td>\n",
       "      <td>105.459999</td>\n",
       "      <td>104.580002</td>\n",
       "    </tr>\n",
       "    <tr>\n",
       "      <th>4578</th>\n",
       "      <td>NaN</td>\n",
       "      <td>NaN</td>\n",
       "      <td>NaN</td>\n",
       "      <td>NaN</td>\n",
       "      <td>104.160004</td>\n",
       "      <td>103.910004</td>\n",
       "    </tr>\n",
       "    <tr>\n",
       "      <th>4579</th>\n",
       "      <td>NaN</td>\n",
       "      <td>NaN</td>\n",
       "      <td>NaN</td>\n",
       "      <td>NaN</td>\n",
       "      <td>103.750000</td>\n",
       "      <td>103.449997</td>\n",
       "    </tr>\n",
       "    <tr>\n",
       "      <th>4580</th>\n",
       "      <td>NaN</td>\n",
       "      <td>NaN</td>\n",
       "      <td>NaN</td>\n",
       "      <td>NaN</td>\n",
       "      <td>103.400002</td>\n",
       "      <td>103.730003</td>\n",
       "    </tr>\n",
       "  </tbody>\n",
       "</table>\n",
       "</div>"
      ],
      "text/plain": [
       "      open  close  open  close        open       close\n",
       "4576   NaN    NaN   NaN    NaN  102.410004  105.459999\n",
       "4577   NaN    NaN   NaN    NaN  105.459999  104.580002\n",
       "4578   NaN    NaN   NaN    NaN  104.160004  103.910004\n",
       "4579   NaN    NaN   NaN    NaN  103.750000  103.449997\n",
       "4580   NaN    NaN   NaN    NaN  103.400002  103.730003"
      ]
     },
     "execution_count": 31,
     "metadata": {},
     "output_type": "execute_result"
    }
   ],
   "source": [
    "comb_df.tail()"
   ]
  },
  {
   "cell_type": "code",
   "execution_count": 6,
   "id": "celtic-transparency",
   "metadata": {},
   "outputs": [
    {
     "data": {
      "text/html": [
       "<div>\n",
       "<style scoped>\n",
       "    .dataframe tbody tr th:only-of-type {\n",
       "        vertical-align: middle;\n",
       "    }\n",
       "\n",
       "    .dataframe tbody tr th {\n",
       "        vertical-align: top;\n",
       "    }\n",
       "\n",
       "    .dataframe thead tr th {\n",
       "        text-align: left;\n",
       "    }\n",
       "\n",
       "    .dataframe thead tr:last-of-type th {\n",
       "        text-align: right;\n",
       "    }\n",
       "</style>\n",
       "<table border=\"1\" class=\"dataframe\">\n",
       "  <thead>\n",
       "    <tr>\n",
       "      <th></th>\n",
       "      <th colspan=\"3\" halign=\"left\">close</th>\n",
       "      <th colspan=\"3\" halign=\"left\">open</th>\n",
       "    </tr>\n",
       "    <tr>\n",
       "      <th>tic</th>\n",
       "      <th>aapl</th>\n",
       "      <th>msi</th>\n",
       "      <th>sbux</th>\n",
       "      <th>aapl</th>\n",
       "      <th>msi</th>\n",
       "      <th>sbux</th>\n",
       "    </tr>\n",
       "    <tr>\n",
       "      <th>date</th>\n",
       "      <th></th>\n",
       "      <th></th>\n",
       "      <th></th>\n",
       "      <th></th>\n",
       "      <th></th>\n",
       "      <th></th>\n",
       "    </tr>\n",
       "  </thead>\n",
       "  <tbody>\n",
       "    <tr>\n",
       "      <th>2015-01-02</th>\n",
       "      <td>24.898552</td>\n",
       "      <td>59.164474</td>\n",
       "      <td>36.551796</td>\n",
       "      <td>27.847500</td>\n",
       "      <td>67.540001</td>\n",
       "      <td>41.064999</td>\n",
       "    </tr>\n",
       "    <tr>\n",
       "      <th>2015-01-05</th>\n",
       "      <td>24.197117</td>\n",
       "      <td>57.874615</td>\n",
       "      <td>35.851631</td>\n",
       "      <td>27.072500</td>\n",
       "      <td>66.239998</td>\n",
       "      <td>40.070000</td>\n",
       "    </tr>\n",
       "    <tr>\n",
       "      <th>2015-01-06</th>\n",
       "      <td>24.199400</td>\n",
       "      <td>57.385361</td>\n",
       "      <td>35.559906</td>\n",
       "      <td>26.635000</td>\n",
       "      <td>65.000000</td>\n",
       "      <td>40.169998</td>\n",
       "    </tr>\n",
       "    <tr>\n",
       "      <th>2015-01-07</th>\n",
       "      <td>24.538729</td>\n",
       "      <td>57.314182</td>\n",
       "      <td>36.435104</td>\n",
       "      <td>26.799999</td>\n",
       "      <td>65.000000</td>\n",
       "      <td>39.875000</td>\n",
       "    </tr>\n",
       "    <tr>\n",
       "      <th>2015-01-08</th>\n",
       "      <td>25.481558</td>\n",
       "      <td>58.203747</td>\n",
       "      <td>37.023052</td>\n",
       "      <td>27.307501</td>\n",
       "      <td>64.910004</td>\n",
       "      <td>41.165001</td>\n",
       "    </tr>\n",
       "    <tr>\n",
       "      <th>...</th>\n",
       "      <td>...</td>\n",
       "      <td>...</td>\n",
       "      <td>...</td>\n",
       "      <td>...</td>\n",
       "      <td>...</td>\n",
       "      <td>...</td>\n",
       "    </tr>\n",
       "    <tr>\n",
       "      <th>2021-01-20</th>\n",
       "      <td>132.029999</td>\n",
       "      <td>172.919998</td>\n",
       "      <td>105.459999</td>\n",
       "      <td>128.660004</td>\n",
       "      <td>171.699997</td>\n",
       "      <td>102.410004</td>\n",
       "    </tr>\n",
       "    <tr>\n",
       "      <th>2021-01-21</th>\n",
       "      <td>136.869995</td>\n",
       "      <td>172.289993</td>\n",
       "      <td>104.580002</td>\n",
       "      <td>133.800003</td>\n",
       "      <td>172.720001</td>\n",
       "      <td>105.459999</td>\n",
       "    </tr>\n",
       "    <tr>\n",
       "      <th>2021-01-22</th>\n",
       "      <td>139.070007</td>\n",
       "      <td>173.710007</td>\n",
       "      <td>103.910004</td>\n",
       "      <td>136.279999</td>\n",
       "      <td>172.070007</td>\n",
       "      <td>104.160004</td>\n",
       "    </tr>\n",
       "    <tr>\n",
       "      <th>2021-01-25</th>\n",
       "      <td>142.919998</td>\n",
       "      <td>173.720001</td>\n",
       "      <td>103.449997</td>\n",
       "      <td>143.070007</td>\n",
       "      <td>174.699997</td>\n",
       "      <td>103.750000</td>\n",
       "    </tr>\n",
       "    <tr>\n",
       "      <th>2021-01-26</th>\n",
       "      <td>142.304092</td>\n",
       "      <td>171.770004</td>\n",
       "      <td>103.696899</td>\n",
       "      <td>143.600006</td>\n",
       "      <td>173.669998</td>\n",
       "      <td>103.400002</td>\n",
       "    </tr>\n",
       "  </tbody>\n",
       "</table>\n",
       "<p>1527 rows × 6 columns</p>\n",
       "</div>"
      ],
      "text/plain": [
       "                 close                                open              \\\n",
       "tic               aapl         msi        sbux        aapl         msi   \n",
       "date                                                                     \n",
       "2015-01-02   24.898552   59.164474   36.551796   27.847500   67.540001   \n",
       "2015-01-05   24.197117   57.874615   35.851631   27.072500   66.239998   \n",
       "2015-01-06   24.199400   57.385361   35.559906   26.635000   65.000000   \n",
       "2015-01-07   24.538729   57.314182   36.435104   26.799999   65.000000   \n",
       "2015-01-08   25.481558   58.203747   37.023052   27.307501   64.910004   \n",
       "...                ...         ...         ...         ...         ...   \n",
       "2021-01-20  132.029999  172.919998  105.459999  128.660004  171.699997   \n",
       "2021-01-21  136.869995  172.289993  104.580002  133.800003  172.720001   \n",
       "2021-01-22  139.070007  173.710007  103.910004  136.279999  172.070007   \n",
       "2021-01-25  142.919998  173.720001  103.449997  143.070007  174.699997   \n",
       "2021-01-26  142.304092  171.770004  103.696899  143.600006  173.669998   \n",
       "\n",
       "                        \n",
       "tic               sbux  \n",
       "date                    \n",
       "2015-01-02   41.064999  \n",
       "2015-01-05   40.070000  \n",
       "2015-01-06   40.169998  \n",
       "2015-01-07   39.875000  \n",
       "2015-01-08   41.165001  \n",
       "...                ...  \n",
       "2021-01-20  102.410004  \n",
       "2021-01-21  105.459999  \n",
       "2021-01-22  104.160004  \n",
       "2021-01-25  103.750000  \n",
       "2021-01-26  103.400002  \n",
       "\n",
       "[1527 rows x 6 columns]"
      ]
     },
     "execution_count": 6,
     "metadata": {},
     "output_type": "execute_result"
    }
   ],
   "source": [
    "data_df.pivot_table(index='date',columns=['tic'],values=['open','close'])"
   ]
  },
  {
   "cell_type": "code",
   "execution_count": 7,
   "id": "rental-bouquet",
   "metadata": {},
   "outputs": [],
   "source": [
    "comb_df2 = data_df.pivot_table(index='date',columns=['tic'],values=['open','close'])"
   ]
  },
  {
   "cell_type": "code",
   "execution_count": 8,
   "id": "generic-context",
   "metadata": {},
   "outputs": [],
   "source": [
    "comb_df2.columns = ['aapl-close','msi-close','sbux-close','aapl-open','msi-open','sbux-open']"
   ]
  },
  {
   "cell_type": "code",
   "execution_count": 9,
   "id": "silver-joining",
   "metadata": {},
   "outputs": [
    {
     "data": {
      "text/html": [
       "<div>\n",
       "<style scoped>\n",
       "    .dataframe tbody tr th:only-of-type {\n",
       "        vertical-align: middle;\n",
       "    }\n",
       "\n",
       "    .dataframe tbody tr th {\n",
       "        vertical-align: top;\n",
       "    }\n",
       "\n",
       "    .dataframe thead th {\n",
       "        text-align: right;\n",
       "    }\n",
       "</style>\n",
       "<table border=\"1\" class=\"dataframe\">\n",
       "  <thead>\n",
       "    <tr style=\"text-align: right;\">\n",
       "      <th></th>\n",
       "      <th>aapl-close</th>\n",
       "      <th>msi-close</th>\n",
       "      <th>sbux-close</th>\n",
       "      <th>aapl-open</th>\n",
       "      <th>msi-open</th>\n",
       "      <th>sbux-open</th>\n",
       "    </tr>\n",
       "    <tr>\n",
       "      <th>date</th>\n",
       "      <th></th>\n",
       "      <th></th>\n",
       "      <th></th>\n",
       "      <th></th>\n",
       "      <th></th>\n",
       "      <th></th>\n",
       "    </tr>\n",
       "  </thead>\n",
       "  <tbody>\n",
       "    <tr>\n",
       "      <th>2015-01-02</th>\n",
       "      <td>24.898552</td>\n",
       "      <td>59.164474</td>\n",
       "      <td>36.551796</td>\n",
       "      <td>27.847500</td>\n",
       "      <td>67.540001</td>\n",
       "      <td>41.064999</td>\n",
       "    </tr>\n",
       "    <tr>\n",
       "      <th>2015-01-05</th>\n",
       "      <td>24.197117</td>\n",
       "      <td>57.874615</td>\n",
       "      <td>35.851631</td>\n",
       "      <td>27.072500</td>\n",
       "      <td>66.239998</td>\n",
       "      <td>40.070000</td>\n",
       "    </tr>\n",
       "    <tr>\n",
       "      <th>2015-01-06</th>\n",
       "      <td>24.199400</td>\n",
       "      <td>57.385361</td>\n",
       "      <td>35.559906</td>\n",
       "      <td>26.635000</td>\n",
       "      <td>65.000000</td>\n",
       "      <td>40.169998</td>\n",
       "    </tr>\n",
       "    <tr>\n",
       "      <th>2015-01-07</th>\n",
       "      <td>24.538729</td>\n",
       "      <td>57.314182</td>\n",
       "      <td>36.435104</td>\n",
       "      <td>26.799999</td>\n",
       "      <td>65.000000</td>\n",
       "      <td>39.875000</td>\n",
       "    </tr>\n",
       "    <tr>\n",
       "      <th>2015-01-08</th>\n",
       "      <td>25.481558</td>\n",
       "      <td>58.203747</td>\n",
       "      <td>37.023052</td>\n",
       "      <td>27.307501</td>\n",
       "      <td>64.910004</td>\n",
       "      <td>41.165001</td>\n",
       "    </tr>\n",
       "  </tbody>\n",
       "</table>\n",
       "</div>"
      ],
      "text/plain": [
       "            aapl-close  msi-close  sbux-close  aapl-open   msi-open  sbux-open\n",
       "date                                                                          \n",
       "2015-01-02   24.898552  59.164474   36.551796  27.847500  67.540001  41.064999\n",
       "2015-01-05   24.197117  57.874615   35.851631  27.072500  66.239998  40.070000\n",
       "2015-01-06   24.199400  57.385361   35.559906  26.635000  65.000000  40.169998\n",
       "2015-01-07   24.538729  57.314182   36.435104  26.799999  65.000000  39.875000\n",
       "2015-01-08   25.481558  58.203747   37.023052  27.307501  64.910004  41.165001"
      ]
     },
     "execution_count": 9,
     "metadata": {},
     "output_type": "execute_result"
    }
   ],
   "source": [
    "comb_df2.head()"
   ]
  },
  {
   "cell_type": "code",
   "execution_count": 10,
   "id": "unavailable-presence",
   "metadata": {},
   "outputs": [],
   "source": [
    "comb_df2.to_csv('aapl-msi-sbux2.csv', index=False)"
   ]
  },
  {
   "cell_type": "code",
   "execution_count": 11,
   "id": "coordinated-chemistry",
   "metadata": {},
   "outputs": [],
   "source": [
    "from utils import get_data"
   ]
  },
  {
   "cell_type": "code",
   "execution_count": 12,
   "id": "distinguished-group",
   "metadata": {},
   "outputs": [],
   "source": [
    "df2 = get_data()"
   ]
  },
  {
   "cell_type": "code",
   "execution_count": 14,
   "id": "advisory-retention",
   "metadata": {},
   "outputs": [
    {
     "data": {
      "text/plain": [
       "array([[ 24.89855194,  59.16447449,  36.55179596,  27.84749985,\n",
       "         67.54000092,  41.06499863],\n",
       "       [ 24.19711685,  57.87461472,  35.85163116,  27.07250023,\n",
       "         66.23999786,  40.06999969],\n",
       "       [ 24.19939995,  57.38536072,  35.55990601,  26.63500023,\n",
       "         65.        ,  40.16999817],\n",
       "       ...,\n",
       "       [139.07000732, 173.71000671, 103.91000366, 136.27999878,\n",
       "        172.07000732, 104.16000366],\n",
       "       [142.91999817, 173.72000122, 103.44999695, 143.07000732,\n",
       "        174.69999695, 103.75      ],\n",
       "       [142.30409241, 171.77000427, 103.69689941, 143.6000061 ,\n",
       "        173.66999817, 103.40000153]])"
      ]
     },
     "execution_count": 14,
     "metadata": {},
     "output_type": "execute_result"
    }
   ],
   "source": [
    "df2"
   ]
  },
  {
   "cell_type": "code",
   "execution_count": null,
   "id": "ecological-governor",
   "metadata": {},
   "outputs": [],
   "source": []
  }
 ],
 "metadata": {
  "environment": {
   "name": "common-cpu.mnightly-2021-01-20-debian-10-test",
   "type": "gcloud",
   "uri": "gcr.io/deeplearning-platform-release/base-cpu:mnightly-2021-01-20-debian-10-test"
  },
  "kernelspec": {
   "display_name": "Python 3",
   "language": "python",
   "name": "python3"
  },
  "language_info": {
   "codemirror_mode": {
    "name": "ipython",
    "version": 3
   },
   "file_extension": ".py",
   "mimetype": "text/x-python",
   "name": "python",
   "nbconvert_exporter": "python",
   "pygments_lexer": "ipython3",
   "version": "3.7.9"
  }
 },
 "nbformat": 4,
 "nbformat_minor": 5
}
